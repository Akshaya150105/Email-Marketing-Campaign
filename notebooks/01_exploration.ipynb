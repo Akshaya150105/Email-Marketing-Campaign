{
 "cells": [
  {
   "cell_type": "code",
   "execution_count": 1,
   "id": "b8d0205b",
   "metadata": {},
   "outputs": [
    {
     "data": {
      "text/html": [
       "<div>\n",
       "<style scoped>\n",
       "    .dataframe tbody tr th:only-of-type {\n",
       "        vertical-align: middle;\n",
       "    }\n",
       "\n",
       "    .dataframe tbody tr th {\n",
       "        vertical-align: top;\n",
       "    }\n",
       "\n",
       "    .dataframe thead th {\n",
       "        text-align: right;\n",
       "    }\n",
       "</style>\n",
       "<table border=\"1\" class=\"dataframe\">\n",
       "  <thead>\n",
       "    <tr style=\"text-align: right;\">\n",
       "      <th></th>\n",
       "      <th>email_id</th>\n",
       "      <th>email_text</th>\n",
       "      <th>email_version</th>\n",
       "      <th>hour</th>\n",
       "      <th>weekday</th>\n",
       "      <th>user_country</th>\n",
       "      <th>user_past_purchases</th>\n",
       "      <th>opened</th>\n",
       "      <th>clicked</th>\n",
       "    </tr>\n",
       "  </thead>\n",
       "  <tbody>\n",
       "    <tr>\n",
       "      <th>0</th>\n",
       "      <td>85120</td>\n",
       "      <td>short_email</td>\n",
       "      <td>personalized</td>\n",
       "      <td>2</td>\n",
       "      <td>Sunday</td>\n",
       "      <td>US</td>\n",
       "      <td>5</td>\n",
       "      <td>0</td>\n",
       "      <td>0</td>\n",
       "    </tr>\n",
       "    <tr>\n",
       "      <th>1</th>\n",
       "      <td>966622</td>\n",
       "      <td>long_email</td>\n",
       "      <td>personalized</td>\n",
       "      <td>12</td>\n",
       "      <td>Sunday</td>\n",
       "      <td>UK</td>\n",
       "      <td>2</td>\n",
       "      <td>1</td>\n",
       "      <td>1</td>\n",
       "    </tr>\n",
       "    <tr>\n",
       "      <th>2</th>\n",
       "      <td>777221</td>\n",
       "      <td>long_email</td>\n",
       "      <td>personalized</td>\n",
       "      <td>11</td>\n",
       "      <td>Wednesday</td>\n",
       "      <td>US</td>\n",
       "      <td>2</td>\n",
       "      <td>0</td>\n",
       "      <td>0</td>\n",
       "    </tr>\n",
       "    <tr>\n",
       "      <th>3</th>\n",
       "      <td>493711</td>\n",
       "      <td>short_email</td>\n",
       "      <td>generic</td>\n",
       "      <td>6</td>\n",
       "      <td>Monday</td>\n",
       "      <td>UK</td>\n",
       "      <td>1</td>\n",
       "      <td>0</td>\n",
       "      <td>0</td>\n",
       "    </tr>\n",
       "    <tr>\n",
       "      <th>4</th>\n",
       "      <td>106887</td>\n",
       "      <td>long_email</td>\n",
       "      <td>generic</td>\n",
       "      <td>14</td>\n",
       "      <td>Monday</td>\n",
       "      <td>US</td>\n",
       "      <td>6</td>\n",
       "      <td>0</td>\n",
       "      <td>0</td>\n",
       "    </tr>\n",
       "  </tbody>\n",
       "</table>\n",
       "</div>"
      ],
      "text/plain": [
       "   email_id   email_text email_version  hour    weekday user_country  \\\n",
       "0     85120  short_email  personalized     2     Sunday           US   \n",
       "1    966622   long_email  personalized    12     Sunday           UK   \n",
       "2    777221   long_email  personalized    11  Wednesday           US   \n",
       "3    493711  short_email       generic     6     Monday           UK   \n",
       "4    106887   long_email       generic    14     Monday           US   \n",
       "\n",
       "   user_past_purchases  opened  clicked  \n",
       "0                    5       0        0  \n",
       "1                    2       1        1  \n",
       "2                    2       0        0  \n",
       "3                    1       0        0  \n",
       "4                    6       0        0  "
      ]
     },
     "execution_count": 1,
     "metadata": {},
     "output_type": "execute_result"
    }
   ],
   "source": [
    "import sys\n",
    "import seaborn as sns\n",
    "import matplotlib.pyplot as plt\n",
    "sys.path.append(\"..\")\n",
    "from src.data_loader import load_data\n",
    "df = load_data(\"../Data/email_table.csv\", \"../Data/email_opened_table.csv\", \"../Data/link_clicked_table.csv\")\n",
    "df.head()\n"
   ]
  },
  {
   "cell_type": "code",
   "execution_count": 2,
   "id": "32e09a82",
   "metadata": {},
   "outputs": [
    {
     "name": "stdout",
     "output_type": "stream",
     "text": [
      "Email Table Info:\n",
      "<class 'pandas.core.frame.DataFrame'>\n",
      "RangeIndex: 100000 entries, 0 to 99999\n",
      "Data columns (total 9 columns):\n",
      " #   Column               Non-Null Count   Dtype \n",
      "---  ------               --------------   ----- \n",
      " 0   email_id             100000 non-null  int64 \n",
      " 1   email_text           100000 non-null  object\n",
      " 2   email_version        100000 non-null  object\n",
      " 3   hour                 100000 non-null  int64 \n",
      " 4   weekday              100000 non-null  object\n",
      " 5   user_country         100000 non-null  object\n",
      " 6   user_past_purchases  100000 non-null  int64 \n",
      " 7   opened               100000 non-null  int64 \n",
      " 8   clicked              100000 non-null  int64 \n",
      "dtypes: int64(5), object(4)\n",
      "memory usage: 6.9+ MB\n",
      "None\n",
      "\n",
      "Missing Values in Email Table:\n",
      "email_id               0\n",
      "email_text             0\n",
      "email_version          0\n",
      "hour                   0\n",
      "weekday                0\n",
      "user_country           0\n",
      "user_past_purchases    0\n",
      "opened                 0\n",
      "clicked                0\n",
      "dtype: int64\n",
      "\n",
      "Duplicates in Email Table:\n",
      "0\n",
      "\n",
      "Hour Range: 1 to 24\n",
      "User Past Purchases Range: 0 to 22\n",
      "Unique Values in Categorical Columns:\n",
      "Email Text: ['short_email' 'long_email']\n",
      "Email Version: ['personalized' 'generic']\n",
      "Weekday: ['Sunday' 'Wednesday' 'Monday' 'Saturday' 'Friday' 'Tuesday' 'Thursday']\n",
      "User Country: ['US' 'UK' 'FR' 'ES']\n"
     ]
    }
   ],
   "source": [
    "print(\"Email Table Info:\")\n",
    "print(df.info())\n",
    "print(\"\\nMissing Values in Email Table:\")\n",
    "print(df.isnull().sum())\n",
    "print(\"\\nDuplicates in Email Table:\")\n",
    "print(df['email_id'].duplicated().sum())\n",
    "print(\"\\nHour Range:\", df['hour'].min(), \"to\", df['hour'].max())\n",
    "print(\"User Past Purchases Range:\", df['user_past_purchases'].min(), \"to\", df['user_past_purchases'].max())\n",
    "print(\"Unique Values in Categorical Columns:\")\n",
    "print(\"Email Text:\", df['email_text'].unique())\n",
    "print(\"Email Version:\", df['email_version'].unique())\n",
    "print(\"Weekday:\", df['weekday'].unique())\n",
    "print(\"User Country:\", df['user_country'].unique())"
   ]
  },
  {
   "cell_type": "code",
   "execution_count": 3,
   "id": "1dc28c2f",
   "metadata": {},
   "outputs": [
    {
     "name": "stdout",
     "output_type": "stream",
     "text": [
      "\n",
      "Open and Click Counts:\n",
      "Emails Opened: 10345\n",
      "Links Clicked: 2119\n"
     ]
    }
   ],
   "source": [
    "print(\"\\nOpen and Click Counts:\")\n",
    "print(\"Emails Opened:\", df['opened'].sum())\n",
    "print(\"Links Clicked:\", df['clicked'].sum())"
   ]
  },
  {
   "cell_type": "code",
   "execution_count": 4,
   "id": "5fdfc432",
   "metadata": {},
   "outputs": [
    {
     "name": "stdout",
     "output_type": "stream",
     "text": [
      "\n",
      "Basic Statistics:\n",
      "Mean User Past Purchases: 3.87845\n",
      "Hour Distribution:\n",
      " count    100000.000000\n",
      "mean          9.059300\n",
      "std           4.439637\n",
      "min           1.000000\n",
      "25%           6.000000\n",
      "50%           9.000000\n",
      "75%          12.000000\n",
      "max          24.000000\n",
      "Name: hour, dtype: float64\n",
      "Categorical Frequencies:\n",
      "Email Text:\n",
      " email_text\n",
      "long_email     50276\n",
      "short_email    49724\n",
      "Name: count, dtype: int64\n",
      "Email Version:\n",
      " email_version\n",
      "generic         50209\n",
      "personalized    49791\n",
      "Name: count, dtype: int64\n",
      "Weekday:\n",
      " weekday\n",
      "Saturday     14569\n",
      "Sunday       14387\n",
      "Monday       14363\n",
      "Thursday     14277\n",
      "Friday       14177\n",
      "Tuesday      14143\n",
      "Wednesday    14084\n",
      "Name: count, dtype: int64\n",
      "User Country:\n",
      " user_country\n",
      "US    60099\n",
      "UK    19939\n",
      "FR     9995\n",
      "ES     9967\n",
      "Name: count, dtype: int64\n"
     ]
    }
   ],
   "source": [
    "print(\"\\nBasic Statistics:\")\n",
    "print(\"Mean User Past Purchases:\", df['user_past_purchases'].mean())\n",
    "print(\"Hour Distribution:\\n\", df['hour'].describe())\n",
    "print(\"Categorical Frequencies:\")\n",
    "print(\"Email Text:\\n\", df['email_text'].value_counts())\n",
    "print(\"Email Version:\\n\", df['email_version'].value_counts())\n",
    "print(\"Weekday:\\n\", df['weekday'].value_counts())\n",
    "print(\"User Country:\\n\", df['user_country'].value_counts())"
   ]
  },
  {
   "cell_type": "code",
   "execution_count": 5,
   "id": "b8c0860f",
   "metadata": {},
   "outputs": [
    {
     "name": "stdout",
     "output_type": "stream",
     "text": [
      "Open Rate: 10.35%\n",
      "Click-Through Rate: 2.12%\n"
     ]
    }
   ],
   "source": [
    "total_emails = len(df)\n",
    "open_rate = (df['opened'].sum() / total_emails) * 100\n",
    "ctr = (df['clicked'].sum() / total_emails) * 100\n",
    "\n",
    "print(f\"Open Rate: {open_rate:.2f}%\")\n",
    "print(f\"Click-Through Rate: {ctr:.2f}%\")"
   ]
  },
  {
   "cell_type": "code",
   "execution_count": 6,
   "id": "0ab33eff",
   "metadata": {},
   "outputs": [
    {
     "name": "stdout",
     "output_type": "stream",
     "text": [
      "Index(['email_id', 'email_text', 'email_version', 'hour', 'weekday',\n",
      "       'user_country', 'user_past_purchases', 'opened', 'clicked'],\n",
      "      dtype='object')\n"
     ]
    }
   ],
   "source": [
    "print(df.columns)\n"
   ]
  },
  {
   "cell_type": "markdown",
   "id": "b34f5f18",
   "metadata": {},
   "source": [
    "To understand whether various categorical email campaign segments significantly affect user behavior,I conducted Chi-Square tests of independence."
   ]
  },
  {
   "cell_type": "code",
   "execution_count": 7,
   "id": "02caf919",
   "metadata": {},
   "outputs": [
    {
     "name": "stdout",
     "output_type": "stream",
     "text": [
      "\n",
      "Chi-Square Test for email_version:\n",
      "Open Rate: p-value = 0.0000\n",
      "CTR: p-value = 0.0000\n",
      "Significant for Open Rate: Yes\n",
      "Significant for CTR: Yes\n",
      "\n",
      "Chi-Square Test for email_text:\n",
      "Open Rate: p-value = 0.0000\n",
      "CTR: p-value = 0.0000\n",
      "Significant for Open Rate: Yes\n",
      "Significant for CTR: Yes\n",
      "\n",
      "Chi-Square Test for weekday:\n",
      "Open Rate: p-value = 0.0000\n",
      "CTR: p-value = 0.0000\n",
      "Significant for Open Rate: Yes\n",
      "Significant for CTR: Yes\n",
      "\n",
      "Chi-Square Test for user_country:\n",
      "Open Rate: p-value = 0.0000\n",
      "CTR: p-value = 0.0000\n",
      "Significant for Open Rate: Yes\n",
      "Significant for CTR: Yes\n"
     ]
    }
   ],
   "source": [
    "from scipy.stats import chi2_contingency\n",
    "import pandas as pd\n",
    "# Function to perform chi-square test\n",
    "def chi_square_test(df, segment, target):\n",
    "    contingency_table = pd.crosstab(df[segment], df[target])\n",
    "    chi2, p, _, _ = chi2_contingency(contingency_table)\n",
    "    return p\n",
    "\n",
    "# Test significance for key segments\n",
    "for seg in ['email_version', 'email_text', 'weekday', 'user_country']:\n",
    "    p_open = chi_square_test(df, seg, 'opened')\n",
    "    p_click = chi_square_test(df, seg, 'clicked')\n",
    "    print(f\"\\nChi-Square Test for {seg}:\")\n",
    "    print(f\"Open Rate: p-value = {p_open:.4f}\")\n",
    "    print(f\"CTR: p-value = {p_click:.4f}\")\n",
    "    print(f\"Significant for Open Rate: {'Yes' if p_open < 0.05 else 'No'}\")\n",
    "    print(f\"Significant for CTR: {'Yes' if p_click < 0.05 else 'No'}\")"
   ]
  },
  {
   "cell_type": "markdown",
   "id": "cefb7995",
   "metadata": {},
   "source": [
    "All tested segments show strong statistical significance (p < 0.05) for both open rates and CTRs. This suggests that factors like the email version, text content, weekday sent, and user location have a meaningful influence."
   ]
  }
 ],
 "metadata": {
  "kernelspec": {
   "display_name": "Python 3",
   "language": "python",
   "name": "python3"
  },
  "language_info": {
   "codemirror_mode": {
    "name": "ipython",
    "version": 3
   },
   "file_extension": ".py",
   "mimetype": "text/x-python",
   "name": "python",
   "nbconvert_exporter": "python",
   "pygments_lexer": "ipython3",
   "version": "3.10.11"
  }
 },
 "nbformat": 4,
 "nbformat_minor": 5
}
